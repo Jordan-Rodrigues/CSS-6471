{
 "cells": [
  {
   "cell_type": "code",
   "execution_count": 10,
   "metadata": {},
   "outputs": [],
   "source": [
    "import pandas as pd\n",
    "import numpy as np\n",
    "import utils\n",
    "from toxicity import get_toxicity_detoxify\n",
    "import importlib\n",
    "from nltk.sentiment.vader import SentimentIntensityAnalyzer \n",
    "import nltk\n",
    "from nltk import tokenize\n",
    "import re"
   ]
  },
  {
   "cell_type": "code",
   "execution_count": 11,
   "metadata": {},
   "outputs": [
    {
     "data": {
      "text/plain": [
       "<module 'utils' from '/Users/naman/Documents/GeorgiaTech/CS/6471/CSS-6471/code/utils.py'>"
      ]
     },
     "execution_count": 11,
     "metadata": {},
     "output_type": "execute_result"
    }
   ],
   "source": [
    "importlib.reload(utils)"
   ]
  },
  {
   "cell_type": "code",
   "execution_count": 12,
   "metadata": {},
   "outputs": [],
   "source": [
    "PATH = '../data/'\n",
    "file_1 = 'early_tweets.csv'\n",
    "file_2 = 'later_tweets.csv'\n",
    "downloads=False\n",
    "exists = True"
   ]
  },
  {
   "cell_type": "code",
   "execution_count": 13,
   "metadata": {},
   "outputs": [],
   "source": [
    "merged = utils.get_merged(PATH + file_1, PATH + file_2, exists=exists)\n",
    "eng_merge = utils.get_english(merged, exists=exists)\n",
    "\n",
    "if not exists:\n",
    "    eng_merge.to_csv('../data/2020toxicity.csv', index=False)"
   ]
  },
  {
   "cell_type": "code",
   "execution_count": 14,
   "metadata": {},
   "outputs": [],
   "source": [
    "merged_years = utils.merge_years('../data/2020toxicity.csv', '../data/2022toxicity.csv', exists=exists)"
   ]
  },
  {
   "cell_type": "code",
   "execution_count": 15,
   "metadata": {},
   "outputs": [
    {
     "data": {
      "text/html": [
       "<div>\n",
       "<style scoped>\n",
       "    .dataframe tbody tr th:only-of-type {\n",
       "        vertical-align: middle;\n",
       "    }\n",
       "\n",
       "    .dataframe tbody tr th {\n",
       "        vertical-align: top;\n",
       "    }\n",
       "\n",
       "    .dataframe thead th {\n",
       "        text-align: right;\n",
       "    }\n",
       "</style>\n",
       "<table border=\"1\" class=\"dataframe\">\n",
       "  <thead>\n",
       "    <tr style=\"text-align: right;\">\n",
       "      <th></th>\n",
       "      <th>id</th>\n",
       "      <th>user_name</th>\n",
       "      <th>user_location</th>\n",
       "      <th>user_description</th>\n",
       "      <th>user_created</th>\n",
       "      <th>user_followers</th>\n",
       "      <th>user_friends</th>\n",
       "      <th>date</th>\n",
       "      <th>text</th>\n",
       "      <th>retweets</th>\n",
       "      <th>favorites</th>\n",
       "    </tr>\n",
       "  </thead>\n",
       "  <tbody>\n",
       "    <tr>\n",
       "      <th>0</th>\n",
       "      <td>1418888645105356803</td>\n",
       "      <td>Abhishek Srivastav</td>\n",
       "      <td>Udupi, India</td>\n",
       "      <td>Trying to be mediocre in many things</td>\n",
       "      <td>2021-02-01 06:33:51</td>\n",
       "      <td>45.0</td>\n",
       "      <td>39.0</td>\n",
       "      <td>2021-07-24 10:59:49</td>\n",
       "      <td>Let the party begin\\n#Tokyo2020</td>\n",
       "      <td>0.0</td>\n",
       "      <td>0.0</td>\n",
       "    </tr>\n",
       "    <tr>\n",
       "      <th>1</th>\n",
       "      <td>1418888377680678918</td>\n",
       "      <td>Saikhom Mirabai Channu🇮🇳</td>\n",
       "      <td>Manipur, India</td>\n",
       "      <td>Indian weightlifter 48 kg category. Champion🏆</td>\n",
       "      <td>2018-04-07 10:10:22</td>\n",
       "      <td>5235.0</td>\n",
       "      <td>5.0</td>\n",
       "      <td>2021-07-24 10:58:45</td>\n",
       "      <td>Congratulations #Tokyo2020 https://t.co/8OFKMs...</td>\n",
       "      <td>0.0</td>\n",
       "      <td>0.0</td>\n",
       "    </tr>\n",
       "    <tr>\n",
       "      <th>2</th>\n",
       "      <td>1418888260886073345</td>\n",
       "      <td>Big Breaking</td>\n",
       "      <td>Global</td>\n",
       "      <td>All breaking news related to Financial Market....</td>\n",
       "      <td>2021-05-29 08:51:25</td>\n",
       "      <td>3646.0</td>\n",
       "      <td>3.0</td>\n",
       "      <td>2021-07-24 10:58:17</td>\n",
       "      <td>Big Breaking Now \\n\\nTokyo Olympic Update \\n\\n...</td>\n",
       "      <td>0.0</td>\n",
       "      <td>1.0</td>\n",
       "    </tr>\n",
       "    <tr>\n",
       "      <th>3</th>\n",
       "      <td>1418888172864299008</td>\n",
       "      <td>International Hockey Federation</td>\n",
       "      <td>Lausanne</td>\n",
       "      <td>Official International Hockey Federation Twitt...</td>\n",
       "      <td>2010-10-20 10:45:59</td>\n",
       "      <td>103975.0</td>\n",
       "      <td>2724.0</td>\n",
       "      <td>2021-07-24 10:57:56</td>\n",
       "      <td>Q4: 🇬🇧3-1🇿🇦\\n\\nGreat Britain finally find a wa...</td>\n",
       "      <td>1.0</td>\n",
       "      <td>0.0</td>\n",
       "    </tr>\n",
       "    <tr>\n",
       "      <th>4</th>\n",
       "      <td>1418886894478270464</td>\n",
       "      <td>Cameron Hart</td>\n",
       "      <td>Australia</td>\n",
       "      <td>Football &amp; Tennis Coach</td>\n",
       "      <td>2020-10-31 08:46:17</td>\n",
       "      <td>6.0</td>\n",
       "      <td>37.0</td>\n",
       "      <td>2021-07-24 10:52:51</td>\n",
       "      <td>All I can think of every time I watch the ring...</td>\n",
       "      <td>0.0</td>\n",
       "      <td>0.0</td>\n",
       "    </tr>\n",
       "  </tbody>\n",
       "</table>\n",
       "</div>"
      ],
      "text/plain": [
       "                    id                        user_name   user_location  \\\n",
       "0  1418888645105356803               Abhishek Srivastav    Udupi, India   \n",
       "1  1418888377680678918         Saikhom Mirabai Channu🇮🇳  Manipur, India   \n",
       "2  1418888260886073345                     Big Breaking          Global   \n",
       "3  1418888172864299008  International Hockey Federation        Lausanne   \n",
       "4  1418886894478270464                     Cameron Hart       Australia   \n",
       "\n",
       "                                    user_description         user_created  \\\n",
       "0               Trying to be mediocre in many things  2021-02-01 06:33:51   \n",
       "1      Indian weightlifter 48 kg category. Champion🏆  2018-04-07 10:10:22   \n",
       "2  All breaking news related to Financial Market....  2021-05-29 08:51:25   \n",
       "3  Official International Hockey Federation Twitt...  2010-10-20 10:45:59   \n",
       "4                            Football & Tennis Coach  2020-10-31 08:46:17   \n",
       "\n",
       "   user_followers  user_friends                 date  \\\n",
       "0            45.0          39.0  2021-07-24 10:59:49   \n",
       "1          5235.0           5.0  2021-07-24 10:58:45   \n",
       "2          3646.0           3.0  2021-07-24 10:58:17   \n",
       "3        103975.0        2724.0  2021-07-24 10:57:56   \n",
       "4             6.0          37.0  2021-07-24 10:52:51   \n",
       "\n",
       "                                                text  retweets  favorites  \n",
       "0                    Let the party begin\\n#Tokyo2020       0.0        0.0  \n",
       "1  Congratulations #Tokyo2020 https://t.co/8OFKMs...       0.0        0.0  \n",
       "2  Big Breaking Now \\n\\nTokyo Olympic Update \\n\\n...       0.0        1.0  \n",
       "3  Q4: 🇬🇧3-1🇿🇦\\n\\nGreat Britain finally find a wa...       1.0        0.0  \n",
       "4  All I can think of every time I watch the ring...       0.0        0.0  "
      ]
     },
     "execution_count": 15,
     "metadata": {},
     "output_type": "execute_result"
    }
   ],
   "source": [
    "merged_years.head()"
   ]
  },
  {
   "cell_type": "code",
   "execution_count": 16,
   "metadata": {},
   "outputs": [],
   "source": [
    "toxicity = get_toxicity_detoxify(merged_years, save_interval=1000, exists=exists)"
   ]
  },
  {
   "cell_type": "code",
   "execution_count": 19,
   "metadata": {},
   "outputs": [
    {
     "data": {
      "text/plain": [
       "599984"
      ]
     },
     "execution_count": 19,
     "metadata": {},
     "output_type": "execute_result"
    }
   ],
   "source": [
    "len(toxicity)"
   ]
  },
  {
   "cell_type": "code",
   "execution_count": 22,
   "metadata": {},
   "outputs": [
    {
     "name": "stderr",
     "output_type": "stream",
     "text": [
      "[nltk_data] Downloading package punkt to /Users/naman/nltk_data...\n",
      "[nltk_data]   Unzipping tokenizers/punkt.zip.\n",
      "[nltk_data] Downloading package vader_lexicon to\n",
      "[nltk_data]     /Users/naman/nltk_data...\n",
      "[nltk_data] Downloading package stopwords to /Users/naman/nltk_data...\n",
      "[nltk_data]   Unzipping corpora/stopwords.zip.\n"
     ]
    }
   ],
   "source": [
    "sentiment = utils.get_sentiment(toxicity, exists=exists, downloads=downloads)"
   ]
  },
  {
   "cell_type": "code",
   "execution_count": 25,
   "metadata": {},
   "outputs": [
    {
     "name": "stderr",
     "output_type": "stream",
     "text": [
      "[nltk_data] Downloading package stopwords to /Users/naman/nltk_data...\n",
      "[nltk_data]   Package stopwords is already up-to-date!\n",
      "[nltk_data] Downloading package wordnet to /Users/naman/nltk_data...\n",
      "[nltk_data]   Unzipping corpora/wordnet.zip.\n",
      "[nltk_data] Downloading package omw-1.4 to /Users/naman/nltk_data...\n",
      "[nltk_data]   Unzipping corpora/omw-1.4.zip.\n",
      "/Users/naman/anaconda3/envs/6471/lib/python3.7/site-packages/numpy/core/fromnumeric.py:3162: VisibleDeprecationWarning: Creating an ndarray from ragged nested sequences (which is a list-or-tuple of lists-or-tuples-or ndarrays with different lengths or shapes) is deprecated. If you meant to do this, you must specify 'dtype=object' when creating the ndarray.\n",
      "  return asarray(a).ndim\n"
     ]
    }
   ],
   "source": [
    "parsed = utils.parse_tweets(sentiment, exists=exists, downloads=downloads)"
   ]
  },
  {
   "cell_type": "code",
   "execution_count": 26,
   "metadata": {},
   "outputs": [
    {
     "data": {
      "text/html": [
       "<div>\n",
       "<style scoped>\n",
       "    .dataframe tbody tr th:only-of-type {\n",
       "        vertical-align: middle;\n",
       "    }\n",
       "\n",
       "    .dataframe tbody tr th {\n",
       "        vertical-align: top;\n",
       "    }\n",
       "\n",
       "    .dataframe thead th {\n",
       "        text-align: right;\n",
       "    }\n",
       "</style>\n",
       "<table border=\"1\" class=\"dataframe\">\n",
       "  <thead>\n",
       "    <tr style=\"text-align: right;\">\n",
       "      <th></th>\n",
       "      <th>id</th>\n",
       "      <th>user_name</th>\n",
       "      <th>user_location</th>\n",
       "      <th>user_description</th>\n",
       "      <th>user_created</th>\n",
       "      <th>user_followers</th>\n",
       "      <th>user_friends</th>\n",
       "      <th>date</th>\n",
       "      <th>text</th>\n",
       "      <th>retweets</th>\n",
       "      <th>favorites</th>\n",
       "      <th>toxicity</th>\n",
       "      <th>severe_toxicity</th>\n",
       "      <th>identity_attack</th>\n",
       "      <th>sentiment</th>\n",
       "      <th>parsed_tweets</th>\n",
       "      <th>hashtags</th>\n",
       "    </tr>\n",
       "  </thead>\n",
       "  <tbody>\n",
       "    <tr>\n",
       "      <th>0</th>\n",
       "      <td>1418888645105356803</td>\n",
       "      <td>Abhishek Srivastav</td>\n",
       "      <td>Udupi, India</td>\n",
       "      <td>Trying to be mediocre in many things</td>\n",
       "      <td>2021-02-01 06:33:51</td>\n",
       "      <td>45.0</td>\n",
       "      <td>39.0</td>\n",
       "      <td>2021-07-24 10:59:49</td>\n",
       "      <td>Let the party begin\\n#Tokyo2020</td>\n",
       "      <td>0.0</td>\n",
       "      <td>0.0</td>\n",
       "      <td>0.001040</td>\n",
       "      <td>0.000002</td>\n",
       "      <td>0.000127</td>\n",
       "      <td>0.4019</td>\n",
       "      <td>Let party begin</td>\n",
       "      <td>[#Tokyo2020]</td>\n",
       "    </tr>\n",
       "    <tr>\n",
       "      <th>1</th>\n",
       "      <td>1418888377680678918</td>\n",
       "      <td>Saikhom Mirabai Channu🇮🇳</td>\n",
       "      <td>Manipur, India</td>\n",
       "      <td>Indian weightlifter 48 kg category. Champion🏆</td>\n",
       "      <td>2018-04-07 10:10:22</td>\n",
       "      <td>5235.0</td>\n",
       "      <td>5.0</td>\n",
       "      <td>2021-07-24 10:58:45</td>\n",
       "      <td>Congratulations #Tokyo2020 https://t.co/8OFKMs...</td>\n",
       "      <td>0.0</td>\n",
       "      <td>0.0</td>\n",
       "      <td>0.000654</td>\n",
       "      <td>0.000001</td>\n",
       "      <td>0.000096</td>\n",
       "      <td>0.5994</td>\n",
       "      <td>Congratulations</td>\n",
       "      <td>[#Tokyo2020]</td>\n",
       "    </tr>\n",
       "    <tr>\n",
       "      <th>8</th>\n",
       "      <td>1418889399081656321</td>\n",
       "      <td>International Hockey Federation</td>\n",
       "      <td>Lausanne</td>\n",
       "      <td>Official International Hockey Federation Twitt...</td>\n",
       "      <td>2010-10-20 10:45:59</td>\n",
       "      <td>103976.0</td>\n",
       "      <td>2724.0</td>\n",
       "      <td>2021-07-24 11:02:49</td>\n",
       "      <td>Q3 🇨🇦 1-4 🇩🇪\\n\\nGreen card for Canada's captai...</td>\n",
       "      <td>0.0</td>\n",
       "      <td>0.0</td>\n",
       "      <td>0.000433</td>\n",
       "      <td>0.000001</td>\n",
       "      <td>0.000075</td>\n",
       "      <td>0.0000</td>\n",
       "      <td>Q3 🇨🇦 1-4 🇩🇪Green card Canada's captain Scott ...</td>\n",
       "      <td>[#Tokyo2020, #CANvGER]</td>\n",
       "    </tr>\n",
       "    <tr>\n",
       "      <th>10</th>\n",
       "      <td>1418889398171566081</td>\n",
       "      <td>Franz Halili</td>\n",
       "      <td>Bacoor, Calabarzon</td>\n",
       "      <td>From the suburbs of Metro Manila\\n\\nHost of Ta...</td>\n",
       "      <td>2019-04-18 14:41:04</td>\n",
       "      <td>142.0</td>\n",
       "      <td>295.0</td>\n",
       "      <td>2021-07-24 11:02:48</td>\n",
       "      <td>GREAT FIRST ROUND ON THE RINGS!! #LabaPilipina...</td>\n",
       "      <td>0.0</td>\n",
       "      <td>0.0</td>\n",
       "      <td>0.002840</td>\n",
       "      <td>0.000005</td>\n",
       "      <td>0.000213</td>\n",
       "      <td>0.7519</td>\n",
       "      <td>GREAT FIRST ROUND ON THE RINGS!!</td>\n",
       "      <td>[#LabaPilipinas, #TeamPhilippines, #Tokyo2020,...</td>\n",
       "    </tr>\n",
       "    <tr>\n",
       "      <th>11</th>\n",
       "      <td>1418889395416051717</td>\n",
       "      <td>Happy💛</td>\n",
       "      <td>Lusaka</td>\n",
       "      <td>I love Jesus Christ | Music | Kids | Athletics...</td>\n",
       "      <td>2010-12-04 13:50:09</td>\n",
       "      <td>1143.0</td>\n",
       "      <td>592.0</td>\n",
       "      <td>2021-07-24 11:02:48</td>\n",
       "      <td>Gymnastics ❤️ #Tokyo2020</td>\n",
       "      <td>0.0</td>\n",
       "      <td>0.0</td>\n",
       "      <td>0.000901</td>\n",
       "      <td>0.000002</td>\n",
       "      <td>0.000118</td>\n",
       "      <td>0.0000</td>\n",
       "      <td>Gymnastics ❤️</td>\n",
       "      <td>[#Tokyo2020]</td>\n",
       "    </tr>\n",
       "  </tbody>\n",
       "</table>\n",
       "</div>"
      ],
      "text/plain": [
       "                     id                        user_name       user_location  \\\n",
       "0   1418888645105356803               Abhishek Srivastav        Udupi, India   \n",
       "1   1418888377680678918         Saikhom Mirabai Channu🇮🇳      Manipur, India   \n",
       "8   1418889399081656321  International Hockey Federation            Lausanne   \n",
       "10  1418889398171566081                     Franz Halili  Bacoor, Calabarzon   \n",
       "11  1418889395416051717                           Happy💛             Lusaka    \n",
       "\n",
       "                                     user_description         user_created  \\\n",
       "0                Trying to be mediocre in many things  2021-02-01 06:33:51   \n",
       "1       Indian weightlifter 48 kg category. Champion🏆  2018-04-07 10:10:22   \n",
       "8   Official International Hockey Federation Twitt...  2010-10-20 10:45:59   \n",
       "10  From the suburbs of Metro Manila\\n\\nHost of Ta...  2019-04-18 14:41:04   \n",
       "11  I love Jesus Christ | Music | Kids | Athletics...  2010-12-04 13:50:09   \n",
       "\n",
       "    user_followers  user_friends                 date  \\\n",
       "0             45.0          39.0  2021-07-24 10:59:49   \n",
       "1           5235.0           5.0  2021-07-24 10:58:45   \n",
       "8         103976.0        2724.0  2021-07-24 11:02:49   \n",
       "10           142.0         295.0  2021-07-24 11:02:48   \n",
       "11          1143.0         592.0  2021-07-24 11:02:48   \n",
       "\n",
       "                                                 text  retweets  favorites  \\\n",
       "0                     Let the party begin\\n#Tokyo2020       0.0        0.0   \n",
       "1   Congratulations #Tokyo2020 https://t.co/8OFKMs...       0.0        0.0   \n",
       "8   Q3 🇨🇦 1-4 🇩🇪\\n\\nGreen card for Canada's captai...       0.0        0.0   \n",
       "10  GREAT FIRST ROUND ON THE RINGS!! #LabaPilipina...       0.0        0.0   \n",
       "11                           Gymnastics ❤️ #Tokyo2020       0.0        0.0   \n",
       "\n",
       "    toxicity  severe_toxicity  identity_attack  sentiment  \\\n",
       "0   0.001040         0.000002         0.000127     0.4019   \n",
       "1   0.000654         0.000001         0.000096     0.5994   \n",
       "8   0.000433         0.000001         0.000075     0.0000   \n",
       "10  0.002840         0.000005         0.000213     0.7519   \n",
       "11  0.000901         0.000002         0.000118     0.0000   \n",
       "\n",
       "                                        parsed_tweets  \\\n",
       "0                                     Let party begin   \n",
       "1                                     Congratulations   \n",
       "8   Q3 🇨🇦 1-4 🇩🇪Green card Canada's captain Scott ...   \n",
       "10                   GREAT FIRST ROUND ON THE RINGS!!   \n",
       "11                                      Gymnastics ❤️   \n",
       "\n",
       "                                             hashtags  \n",
       "0                                        [#Tokyo2020]  \n",
       "1                                        [#Tokyo2020]  \n",
       "8                              [#Tokyo2020, #CANvGER]  \n",
       "10  [#LabaPilipinas, #TeamPhilippines, #Tokyo2020,...  \n",
       "11                                       [#Tokyo2020]  "
      ]
     },
     "execution_count": 26,
     "metadata": {},
     "output_type": "execute_result"
    }
   ],
   "source": [
    "parsed.head()"
   ]
  },
  {
   "cell_type": "code",
   "execution_count": null,
   "metadata": {},
   "outputs": [],
   "source": []
  }
 ],
 "metadata": {
  "interpreter": {
   "hash": "222efbf5d6d022adefcd40d40e1c6f979ae5b83de542c620367ce56284f8c580"
  },
  "kernelspec": {
   "display_name": "Python 3.8.5 ('base')",
   "language": "python",
   "name": "python3"
  },
  "language_info": {
   "codemirror_mode": {
    "name": "ipython",
    "version": 3
   },
   "file_extension": ".py",
   "mimetype": "text/x-python",
   "name": "python",
   "nbconvert_exporter": "python",
   "pygments_lexer": "ipython3",
   "version": "3.7.11"
  },
  "orig_nbformat": 4
 },
 "nbformat": 4,
 "nbformat_minor": 2
}
