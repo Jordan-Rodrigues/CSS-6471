{
 "cells": [
  {
   "cell_type": "code",
   "execution_count": 1,
   "metadata": {},
   "outputs": [],
   "source": [
    "import pandas as pd\n",
    "import numpy as np\n",
    "import utils\n",
    "from toxicity import get_toxicity_detoxify\n",
    "import importlib\n",
    "import nltk\n",
    "import seaborn as sns\n",
    "import matplotlib.pyplot as plt\n",
    "from scipy import stats\n",
    "import consts"
   ]
  },
  {
   "cell_type": "code",
   "execution_count": 2,
   "metadata": {},
   "outputs": [
    {
     "data": {
      "text/plain": [
       "<module 'consts' from '/Users/jrod/Documents/Courses/Current/CSS-6471/code/consts.py'>"
      ]
     },
     "execution_count": 2,
     "metadata": {},
     "output_type": "execute_result"
    }
   ],
   "source": [
    "importlib.reload(utils)\n",
    "importlib.reload(consts)"
   ]
  },
  {
   "cell_type": "code",
   "execution_count": 3,
   "metadata": {},
   "outputs": [],
   "source": [
    "PATH = '../data/'\n",
    "file_1 = 'early_tweets.csv' #Kaggle Dataset 1\n",
    "file_2 = 'later_tweets.csv' #Kaggle Dataset 2\n",
    "downloads=False\n",
    "exists = True"
   ]
  },
  {
   "cell_type": "code",
   "execution_count": 5,
   "metadata": {},
   "outputs": [],
   "source": [
    "#Cannot run from source without moving kaggle data to a data folder\n",
    "'''merged = utils.get_merged(PATH + file_1, PATH + file_2, exists=exists)\n",
    "eng_merge = utils.get_english(merged, exists=exists)\n",
    "\n",
    "if not exists:\n",
    "    eng_merge.to_csv('../data/2020toxicity.csv', index=False)'''"
   ]
  },
  {
   "cell_type": "code",
   "execution_count": 5,
   "metadata": {},
   "outputs": [
    {
     "name": "stderr",
     "output_type": "stream",
     "text": [
      "/Users/jrod/anaconda3/envs/css_proj/lib/python3.7/site-packages/numpy/core/fromnumeric.py:3162: VisibleDeprecationWarning: Creating an ndarray from ragged nested sequences (which is a list-or-tuple of lists-or-tuples-or ndarrays with different lengths or shapes) is deprecated. If you meant to do this, you must specify 'dtype=object' when creating the ndarray.\n",
      "  return asarray(a).ndim\n",
      "/Users/jrod/Documents/Courses/Current/CSS-6471/code/utils.py:324: SettingWithCopyWarning: \n",
      "A value is trying to be set on a copy of a slice from a DataFrame\n",
      "\n",
      "See the caveats in the documentation: https://pandas.pydata.org/pandas-docs/stable/user_guide/indexing.html#returning-a-view-versus-a-copy\n",
      "  df[\"olympics\"][df[\"date\"] > \"2022\"] = \"2022\"\n",
      "/Users/jrod/Documents/Courses/Current/CSS-6471/code/utils.py:325: SettingWithCopyWarning: \n",
      "A value is trying to be set on a copy of a slice from a DataFrame\n",
      "\n",
      "See the caveats in the documentation: https://pandas.pydata.org/pandas-docs/stable/user_guide/indexing.html#returning-a-view-versus-a-copy\n",
      "  df[\"olympics\"][df[\"date\"] < \"2022\"] = \"2020\"\n",
      "/Users/jrod/Documents/Courses/Current/CSS-6471/code/utils.py:464: UserWarning: This pattern has match groups. To actually get the groups, use str.extract.\n",
      "  ] = value\n"
     ]
    }
   ],
   "source": [
    "#NOTE: When exists=False, each file builds off of the previous files to construct the dataset. When exists=True, it simply reads the saved file. When exists=True, set the first parameter to be the previous dataframe, otherwise set it to whatever.\n",
    "#merged_years = utils.merge_years('../data/2020toxicity.csv', '../data/2022toxicity.csv', exists=exists)\n",
    "#toxicity = get_toxicity_detoxify(merged_years, save_interval=1000, exists=exists)\n",
    "#sentiment = utils.get_sentiment(None, exists=True, downloads=downloads)\n",
    "#parsed = utils.parse_tweets(sentiment, exists=True, downloads=downloads)\n",
    "#binned = utils.get_bin_sent_and_tox(parsed, exists=True)\n",
    "loc = utils.get_loc(None, exists=False)"
   ]
  }
 ],
 "metadata": {
  "interpreter": {
   "hash": "222efbf5d6d022adefcd40d40e1c6f979ae5b83de542c620367ce56284f8c580"
  },
  "kernelspec": {
   "display_name": "Python 3.8.5 ('base')",
   "language": "python",
   "name": "python3"
  },
  "language_info": {
   "codemirror_mode": {
    "name": "ipython",
    "version": 3
   },
   "file_extension": ".py",
   "mimetype": "text/x-python",
   "name": "python",
   "nbconvert_exporter": "python",
   "pygments_lexer": "ipython3",
   "version": "3.7.11"
  },
  "orig_nbformat": 4
 },
 "nbformat": 4,
 "nbformat_minor": 2
}
