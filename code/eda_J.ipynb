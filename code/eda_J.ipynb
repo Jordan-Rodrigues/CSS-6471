{
 "cells": [
  {
   "cell_type": "code",
   "execution_count": 125,
   "metadata": {},
   "outputs": [],
   "source": [
    "import pandas as pd\n",
    "import numpy as np\n",
    "import utils\n",
    "from toxicity import get_toxicity_detoxify\n",
    "import importlib\n",
    "import nltk\n",
    "import seaborn as sns\n",
    "import matplotlib.pyplot as plt\n",
    "from scipy.stats import mannwhitneyu\n",
    "import location"
   ]
  },
  {
   "cell_type": "code",
   "execution_count": 187,
   "metadata": {},
   "outputs": [
    {
     "data": {
      "text/plain": [
       "<module 'location' from '/Users/jrod/Documents/Courses/Current/CSS-6471/code/location.py'>"
      ]
     },
     "execution_count": 187,
     "metadata": {},
     "output_type": "execute_result"
    }
   ],
   "source": [
    "importlib.reload(utils)\n",
    "importlib.reload(location)"
   ]
  },
  {
   "cell_type": "code",
   "execution_count": 4,
   "metadata": {},
   "outputs": [],
   "source": [
    "PATH = '../data/'\n",
    "file_1 = 'early_tweets.csv'\n",
    "file_2 = 'later_tweets.csv'\n",
    "downloads=False\n",
    "exists = True"
   ]
  },
  {
   "cell_type": "code",
   "execution_count": 5,
   "metadata": {},
   "outputs": [],
   "source": [
    "merged = utils.get_merged(PATH + file_1, PATH + file_2, exists=exists)\n",
    "eng_merge = utils.get_english(merged, exists=exists)\n",
    "\n",
    "if not exists:\n",
    "    eng_merge.to_csv('../data/2020toxicity.csv', index=False)"
   ]
  },
  {
   "cell_type": "code",
   "execution_count": 6,
   "metadata": {},
   "outputs": [],
   "source": [
    "merged_years = utils.merge_years('../data/2020toxicity.csv', '../data/2022toxicity.csv', exists=exists)\n",
    "toxicity = get_toxicity_detoxify(merged_years, save_interval=1000, exists=exists)\n",
    "sentiment = utils.get_sentiment(toxicity, exists=exists, downloads=downloads)\n",
    "parsed = utils.parse_tweets(None, exists=exists, downloads=downloads)\n",
    "binned = utils.get_bin_sent_and_tox(parsed, exists=exists)"
   ]
  },
  {
   "cell_type": "code",
   "execution_count": 194,
   "metadata": {},
   "outputs": [],
   "source": [
    "loc = utils.get_loc(binned, exists=exists)"
   ]
  },
  {
   "cell_type": "code",
   "execution_count": null,
   "metadata": {},
   "outputs": [],
   "source": []
  }
 ],
 "metadata": {
  "interpreter": {
   "hash": "222efbf5d6d022adefcd40d40e1c6f979ae5b83de542c620367ce56284f8c580"
  },
  "kernelspec": {
   "display_name": "Python 3.8.5 ('base')",
   "language": "python",
   "name": "python3"
  },
  "language_info": {
   "codemirror_mode": {
    "name": "ipython",
    "version": 3
   },
   "file_extension": ".py",
   "mimetype": "text/x-python",
   "name": "python",
   "nbconvert_exporter": "python",
   "pygments_lexer": "ipython3",
   "version": "3.7.11"
  },
  "orig_nbformat": 4
 },
 "nbformat": 4,
 "nbformat_minor": 2
}
